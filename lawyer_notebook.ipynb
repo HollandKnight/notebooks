{
 "cells": [
  {
   "cell_type": "code",
   "execution_count": 31,
   "metadata": {},
   "outputs": [
    {
     "ename": "ModuleNotFoundError",
     "evalue": "No module named 'textlib'",
     "traceback": [
      "\u001b[0;31m---------------------------------------------------------------------------\u001b[0m",
      "\u001b[0;31mModuleNotFoundError\u001b[0m                       Traceback (most recent call last)",
      "\u001b[0;32m<ipython-input-31-494d34986e87>\u001b[0m in \u001b[0;36m<module>\u001b[0;34m()\u001b[0m\n\u001b[1;32m     14\u001b[0m \u001b[0mpd\u001b[0m\u001b[0;34m.\u001b[0m\u001b[0moptions\u001b[0m\u001b[0;34m.\u001b[0m\u001b[0mdisplay\u001b[0m\u001b[0;34m.\u001b[0m\u001b[0mexpand_frame_repr\u001b[0m \u001b[0;34m=\u001b[0m \u001b[0;32mTrue\u001b[0m\u001b[0;34m\u001b[0m\u001b[0m\n\u001b[1;32m     15\u001b[0m \u001b[0;32mimport\u001b[0m \u001b[0mgoogle\u001b[0m\u001b[0;34m.\u001b[0m\u001b[0mcloud\u001b[0m\u001b[0;34m.\u001b[0m\u001b[0mautoml_v1beta1\u001b[0m \u001b[0;32mas\u001b[0m \u001b[0mautoml_v1beta1\u001b[0m\u001b[0;34m\u001b[0m\u001b[0m\n\u001b[0;32m---> 16\u001b[0;31m \u001b[0;32mimport\u001b[0m \u001b[0mtextlib\u001b[0m\u001b[0;34m\u001b[0m\u001b[0m\n\u001b[0m\u001b[1;32m     17\u001b[0m \u001b[0;32mfrom\u001b[0m \u001b[0mtextlib\u001b[0m \u001b[0;32mimport\u001b[0m \u001b[0mload_raw\u001b[0m\u001b[0;34m\u001b[0m\u001b[0m\n\u001b[1;32m     18\u001b[0m \u001b[0;32mfrom\u001b[0m \u001b[0mtextlib\u001b[0m \u001b[0;32mimport\u001b[0m \u001b[0mnormalize_sent\u001b[0m\u001b[0;34m\u001b[0m\u001b[0m\n",
      "\u001b[0;31mModuleNotFoundError\u001b[0m: No module named 'textlib'"
     ],
     "output_type": "error"
    }
   ],
   "source": [
    "import ipywidgets as widgets\n",
    "import pandas as pd\n",
    "from IPython.display import display\n",
    "from IPython.display import display\n",
    "from ipywidgets import HBox, VBox\n",
    "from collections import OrderedDict\n",
    "from fuzzywuzzy import process \n",
    "from fuzzywuzzy import fuzz\n",
    "pd.options.display.html.table_schema = True\n",
    "pd.options.display.max_rows = None\n",
    "pd.options.display.max_columns = 10\n",
    "pd.options.display.max_colwidth = 60\n",
    "pd.options.display.width = 180\n",
    "pd.options.display.expand_frame_repr = True\n",
    "import google.cloud.automl_v1beta1 as automl_v1beta1\n",
    "import textlib\n",
    "from textlib import load_raw\n",
    "from textlib import normalize_sent\n",
    "from nltk.tokenize import sent_tokenize\n"
   ]
  },
  {
   "cell_type": "markdown",
   "metadata": {
    "toc": true
   },
   "source": [
    "<h1>Index of Apps<span class=\"tocSkip\"></span></h1>\n",
    "<div class=\"toc\"><ul class=\"toc-item\"><li><span><a href=\"#The-H&amp;K-Lawyer-Notebook\" data-toc-modified-id=\"The-H&amp;K-Lawyer-Notebook-1\"><span class=\"toc-item-num\">1&nbsp;&nbsp;</span>The H&amp;K Lawyer Notebook</a></span><ul class=\"toc-item\"><li><span><a href=\"#Classification-Tool\" data-toc-modified-id=\"Classification-Tool-1.1\"><span class=\"toc-item-num\">1.1&nbsp;&nbsp;</span>Classification Tool</a></span></li><li><span><a href=\"#Bulk-Compare\" data-toc-modified-id=\"Bulk-Compare-1.2\"><span class=\"toc-item-num\">1.2&nbsp;&nbsp;</span>Bulk Compare</a></span></li><li><span><a href=\"#Clustering-and-Text-Similarity-Models\" data-toc-modified-id=\"Clustering-and-Text-Similarity-Models-1.3\"><span class=\"toc-item-num\">1.3&nbsp;&nbsp;</span>Clustering and Text Similarity Models</a></span></li><li><span><a href=\"#QuickCAN\" data-toc-modified-id=\"QuickCAN-1.4\"><span class=\"toc-item-num\">1.4&nbsp;&nbsp;</span>QuickCAN</a></span></li><li><span><a href=\"#QuickCAR\" data-toc-modified-id=\"QuickCAR-1.5\"><span class=\"toc-item-num\">1.5&nbsp;&nbsp;</span>QuickCAR</a></span></li><li><span><a href=\"#Signature-Page-Generator\" data-toc-modified-id=\"Signature-Page-Generator-1.6\"><span class=\"toc-item-num\">1.6&nbsp;&nbsp;</span>Signature Page Generator</a></span></li><li><span><a href=\"#Closing-Binder-Generator\" data-toc-modified-id=\"Closing-Binder-Generator-1.7\"><span class=\"toc-item-num\">1.7&nbsp;&nbsp;</span>Closing Binder Generator</a></span></li></ul></li><li><span><a href=\"#Documentation-and-Help\" data-toc-modified-id=\"Documentation-and-Help-2\"><span class=\"toc-item-num\">2&nbsp;&nbsp;</span>Documentation and Help</a></span></li></ul></div>"
   ]
  },
  {
   "cell_type": "markdown",
   "metadata": {},
   "source": [
    "![alt text](https://s3.amazonaws.com/blaze4/HK+logo.png)\n",
    "# The H&K Lawyer Notebook\n",
    "\n",
    "A collection of simple, yet powerful tools for lawyers to do their jobs better and more efficiently. By leveraging data analytics, natural language processing, machine learning, network graphing and other open source solutions, users are able to produce better quality work faster and more efficiently. Many of these tools are still under active development, so the H&K Lawyer Notebook is reserved for our more intrepid lawyers.\n",
    "\n",
    "***"
   ]
  },
  {
   "cell_type": "markdown",
   "metadata": {},
   "source": [
    "## Classification Tool\n",
    "\n",
    "Classify text using one of several trained machine learning models."
   ]
  },
  {
   "cell_type": "code",
   "execution_count": 29,
   "metadata": {},
   "outputs": [
    {
     "data": {
      "text/plain": [
       "RadioButtons(description='Select model:', options=('finance', 'leasing', 'private equity', 'corporate M&A', 'b…"
      ]
     },
     "execution_count": 0,
     "metadata": {},
     "output_type": "execute_result"
    },
    {
     "data": {
      "text/plain": [
       "SelectMultiple(description='Select:', index=(2,), options=('Termination', 'Commitment/Unused Fees', 'Change in…"
      ]
     },
     "execution_count": 0,
     "metadata": {},
     "output_type": "execute_result"
    },
    {
     "data": {
      "text/plain": [
       "Text(value='/Users/josiasdewey/jupyter/notebooks/credit.txt', description='Filename:', placeholder='Type somet…"
      ]
     },
     "execution_count": 0,
     "metadata": {},
     "output_type": "execute_result"
    },
    {
     "data": {
      "text/plain": [
       "Button(description='Submit', style=ButtonStyle(button_color='lightblue'))"
      ]
     },
     "execution_count": 0,
     "metadata": {},
     "output_type": "execute_result"
    }
   ],
   "source": [
    "\n",
    "name = 'projects/ccapp-141701/locations/us-central1/models/TCN1260328743632064609'\n",
    "prediction_client = automl_v1beta1.PredictionServiceClient.from_service_account_json(\n",
    "    '/Users/josiasdewey/jupyter/notebooks/ccapp-141701-bf3fd9e2a4f7.json')\n",
    "def automl_predict(model_full_id, snippet):\n",
    "    payload = {'text_snippet': {\n",
    "        'content': snippet,\n",
    "        \"mime_type\": \"text/plain\"\n",
    "            }\n",
    "      }\n",
    "    return prediction_client.predict(model_full_id, payload)\n",
    " \n",
    "radio_buttons = widgets.RadioButtons(\n",
    "    options=['finance', 'leasing', 'private equity', 'corporate M&A', 'bond financing'],\n",
    "     value='finance',\n",
    "    description='Select model:',\n",
    "    disabled=False\n",
    ")\n",
    "display(radio_buttons)\n",
    "\n",
    "clause_selection = widgets.SelectMultiple(\n",
    "    options=['Termination', 'Commitment/Unused Fees', 'Change in Control', 'Voluntary Prepayment', 'Material Adverse Condition', 'Events of Default', 'Eurodollar Rate'],\n",
    "    value=['Change in Control'],\n",
    "    #rows=10,\n",
    "    description='Select:',\n",
    "    disabled=False\n",
    ")\n",
    "display(clause_selection)\n",
    "\n",
    "file_path_text = widgets.Text(              \n",
    "    value='credit.txt',\n",
    "    placeholder='Type something',\n",
    "    description='Filename:',\n",
    "    disabled=False\n",
    ")\n",
    "display(file_path_text)\n",
    "\n",
    "from IPython.display import display\n",
    "button = widgets.Button(description=\"Submit\")\n",
    "button.style.button_color = 'lightblue'\n",
    "display(button)\n",
    "\n",
    "def on_button_clicked(b):\n",
    "    current_raw_sent_list = []\n",
    "    current_clean_sent_list = []\n",
    "    sent_list = sent_tokenize(load_raw(file_path_text.value))\n",
    "    for sent in sent_list:\n",
    "        clean_sent = normalize_sent(sent)\n",
    "        current_clean_sent_list.append(clean_sent)\n",
    "        current_raw_sent_list.append(sent)\n",
    "    df_current = pd.DataFrame(columns=['label', 'raw', 'clean'])\n",
    "    df_current['clean'] = current_clean_sent_list\n",
    "    df_current['raw'] = current_raw_sent_list\n",
    "    for index, row in df_current.iterrows():\n",
    "        if index <= 25:\n",
    "            if len(row['clean']) < 25000:\n",
    "                response = automl_predict(name, row['clean'])\n",
    "                clause_type = response.payload[0].display_name\n",
    "                row['label'] = clause_type\n",
    "    display(df_current)\n",
    "    \n",
    "button.on_click(on_button_clicked)"
   ]
  },
  {
   "cell_type": "markdown",
   "metadata": {},
   "source": [
    "***"
   ]
  },
  {
   "cell_type": "markdown",
   "metadata": {},
   "source": [
    "## Bulk Compare\n",
    "Use One2Many to compare a large number of documents against a common base document.  For example, compare lease agreements against lease form to determine deviations from approved form. Use Many2Many to compare a large number of items (the 'Query') against another large groups of items (the 'Search') and determine matches. For example, a client requests we confirm the destruction of files relating to several hundred matters, where the matter description for each must be cross checked against several thousand entries in our file storage list. This tool leverages fuzzy matching in order to identify matches undetected by pure booleen searches (e.g., \"FIRST INTERNATIONAL\" captured even if search query is \"INTL FIRS\")"
   ]
  },
  {
   "cell_type": "code",
   "execution_count": 1,
   "metadata": {},
   "outputs": [
    {
     "ename": "NameError",
     "evalue": "name 'widgets' is not defined",
     "traceback": [
      "\u001b[0;31m---------------------------------------------------------------------------\u001b[0m",
      "\u001b[0;31mNameError\u001b[0m                                 Traceback (most recent call last)",
      "\u001b[0;32m<ipython-input-1-583da37e3013>\u001b[0m in \u001b[0;36m<module>\u001b[0;34m()\u001b[0m\n\u001b[0;32m----> 1\u001b[0;31m \u001b[0mbutton_compare\u001b[0m \u001b[0;34m=\u001b[0m \u001b[0mwidgets\u001b[0m\u001b[0;34m.\u001b[0m\u001b[0mButton\u001b[0m\u001b[0;34m(\u001b[0m\u001b[0mdescription\u001b[0m\u001b[0;34m=\u001b[0m\u001b[0;34m\"Submit\"\u001b[0m\u001b[0;34m)\u001b[0m\u001b[0;34m\u001b[0m\u001b[0m\n\u001b[0m\u001b[1;32m      2\u001b[0m \u001b[0mbutton_compare\u001b[0m\u001b[0;34m.\u001b[0m\u001b[0mstyle\u001b[0m\u001b[0;34m.\u001b[0m\u001b[0mbutton_color\u001b[0m \u001b[0;34m=\u001b[0m \u001b[0;34m'lightblue'\u001b[0m\u001b[0;34m\u001b[0m\u001b[0m\n\u001b[1;32m      3\u001b[0m \u001b[0;34m\u001b[0m\u001b[0m\n\u001b[1;32m      4\u001b[0m \u001b[0;34m@\u001b[0m\u001b[0mbutton_compare\u001b[0m\u001b[0;34m.\u001b[0m\u001b[0mon_click\u001b[0m\u001b[0;34m\u001b[0m\u001b[0m\n\u001b[1;32m      5\u001b[0m \u001b[0;32mdef\u001b[0m \u001b[0mon_click\u001b[0m\u001b[0;34m(\u001b[0m\u001b[0mb\u001b[0m\u001b[0;34m)\u001b[0m\u001b[0;34m:\u001b[0m\u001b[0;34m\u001b[0m\u001b[0m\n",
      "\u001b[0;31mNameError\u001b[0m: name 'widgets' is not defined"
     ],
     "output_type": "error"
    }
   ],
   "source": [
    "button_compare = widgets.Button(description=\"Submit\")\n",
    "button_compare.style.button_color = 'lightblue'\n",
    "\n",
    "@button_compare.on_click\n",
    "def on_click(b):\n",
    "    doc_1_raw_sent_list = []\n",
    "    doc_1_clean_sent_list = []\n",
    "    sent_list = sent_tokenize(load_raw(file_path_text_1.value))\n",
    "    for sent in sent_list:\n",
    "        clean_sent = normalize_sent(sent)\n",
    "        doc_1_clean_sent_list.append(clean_sent)\n",
    "        doc_1_raw_sent_list.append(sent)\n",
    "    df_doc_1 = pd.DataFrame(columns=['raw', 'clean'])\n",
    "    df_doc_1['clean'] = doc_1_clean_sent_list\n",
    "    df_doc_1['raw'] = doc_1_raw_sent_list\n",
    "    doc_2_raw_sent_list = []\n",
    "    doc_2_clean_sent_list = []\n",
    "    sent_list = sent_tokenize(load_raw(file_path_text_2.value))\n",
    "    for sent in sent_list:\n",
    "        clean_sent = normalize_sent(sent)\n",
    "        doc_2_clean_sent_list.append(clean_sent)\n",
    "        doc_2_raw_sent_list.append(sent)\n",
    "    df_doc_2 = pd.DataFrame(columns=['raw', 'clean'])\n",
    "    df_doc_2['clean'] = doc_2_clean_sent_list\n",
    "    df_doc_2['raw'] = doc_2_raw_sent_list\n",
    "    df_results = pd.DataFrame(columns=['query', 'match', 'strength'])\n",
    "    query = df_doc_1['clean']\n",
    "    choices = df_doc_2['clean']\n",
    "    query_list = []\n",
    "    found_list = []\n",
    "    strength_list = []\n",
    "    for q in query:\n",
    "        match = process.extractOne(q, choices=choices, scorer=fuzz.token_sort_ratio, score_cutoff=0)\n",
    "        if match != None:\n",
    "            print(match)\n",
    "            index = match[2]\n",
    "            if match[1] >= compare_slider.value:\n",
    "                found = match[0]\n",
    "                strength = match[1]\n",
    "            else:\n",
    "                found = 'None'\n",
    "                strength = 'N/A'\n",
    "            query_list.append(q)\n",
    "            found_list.append(choices[index])\n",
    "            strength_list.append(strength)\n",
    "    df_results['query'] = query_list\n",
    "    df_results['found']= found_list\n",
    "    df_results['strength'] = strength_list\n",
    "    display(df_results)\n",
    "\n",
    "file_path_text_1 = widgets.Text(\n",
    "    value='Stock Purchase Agreement_original.txt',\n",
    "    placeholder='Type something',\n",
    "    description='Query:',\n",
    "    disabled=False\n",
    ")\n",
    "\n",
    "file_path_text_2 = widgets.Text(\n",
    "    value='Stock Purchase Agreement_new_deal.txt',\n",
    "    placeholder='Type something',\n",
    "    description='Search:',\n",
    "    disabled=False\n",
    ")\n",
    "\n",
    "s = widgets.Text(\n",
    "    value='filename and path',\n",
    "    placeholder='Type something',\n",
    "    description='Base:',\n",
    "    disabled=False\n",
    ")\n",
    "\n",
    "t = widgets.Text(\n",
    "    value='filename and path',\n",
    "    placeholder='Type something',\n",
    "    description='Compare:',\n",
    "    disabled=False\n",
    ")\n",
    "\n",
    "compare_slider = widgets.FloatSlider(\n",
    "    value=0,\n",
    "    base=100,\n",
    "    min=0, # max exponent of base\n",
    "    max=100, # min exponent of base\n",
    "    step=0.2, # exponent step\n",
    "    description='Similarity:'\n",
    ")\n",
    "\n",
    "\n",
    "tab1 = VBox(children=[HBox(children=[file_path_text_1, file_path_text_2, compare_slider])])\n",
    "tab2 = VBox(children=[HBox(children=[s, t])])\n",
    "tab = widgets.Tab(children=[tab1, tab2])\n",
    "tab.set_title(0, 'Many2Many')\n",
    "tab.set_title(1, 'One2Many')\n",
    "VBox(children=[tab, button_compare])"
   ]
  },
  {
   "cell_type": "markdown",
   "metadata": {},
   "source": [
    "***"
   ]
  },
  {
   "cell_type": "markdown",
   "metadata": {},
   "source": [
    "## Clustering and Text Similarity Models\n",
    "*Cluster text into similar topics.  Find similar text within several documents.*"
   ]
  },
  {
   "cell_type": "markdown",
   "metadata": {},
   "source": [
    "***"
   ]
  },
  {
   "cell_type": "markdown",
   "metadata": {},
   "source": [
    "## QuickCAN\n",
    "Computer generated revisions to contracts based on precedent clause database.  Machine learning algorithms and fuzzy matching are used to incorporate revisions made to similar text in precedent clauses."
   ]
  },
  {
   "cell_type": "code",
   "execution_count": 21,
   "metadata": {},
   "outputs": [
    {
     "data": {
      "text/plain": [
       "RadioButtons(description='Type:', options=('finance', 'leasing', 'private equity', 'corporate M&A', 'bond fina…"
      ]
     },
     "execution_count": 0,
     "metadata": {},
     "output_type": "execute_result"
    },
    {
     "data": {
      "text/plain": [
       "SelectionSlider(continuous_update=False, description='Set Intensity:', options=('Aggressive', 'Favorable', 'Ne…"
      ]
     },
     "execution_count": 0,
     "metadata": {},
     "output_type": "execute_result"
    },
    {
     "data": {
      "text/plain": [
       "Text(value='filename and path', description='Filename:', placeholder='Type something')"
      ]
     },
     "execution_count": 0,
     "metadata": {},
     "output_type": "execute_result"
    },
    {
     "data": {
      "text/plain": [
       "Button(description='Submit', style=ButtonStyle(button_color='lightblue'))"
      ]
     },
     "execution_count": 0,
     "metadata": {},
     "output_type": "execute_result"
    },
    {
     "name": "stdout",
     "output_type": "stream",
     "text": [
      "\n"
     ]
    }
   ],
   "source": [
    "x = widgets.RadioButtons(\n",
    "    options=['finance', 'leasing', 'private equity', 'corporate M&A', 'bond financing'],\n",
    "     value='finance',\n",
    "    description='Type:',\n",
    "    disabled=False\n",
    ")\n",
    "display(x)\n",
    "\n",
    "IntSlider = widgets.SelectionSlider(\n",
    "    options=['Aggressive', 'Favorable', 'Neutral', 'Must Haves'],\n",
    "    value='Aggressive',\n",
    "    description='Set Intensity:',\n",
    "    disabled=False,\n",
    "    continuous_update=False,\n",
    "    orientation='horizontal',\n",
    "    readout=True\n",
    ")\n",
    "\n",
    "display(IntSlider)\n",
    "\n",
    "y = widgets.Text(\n",
    "    value='filename and path',\n",
    "    placeholder='Type something',\n",
    "    description='Filename:',\n",
    "    disabled=False\n",
    ")\n",
    "\n",
    "display(y)\n",
    "\n",
    "from IPython.display import display\n",
    "button = widgets.Button(description=\"Submit\")\n",
    "button.style.button_color = 'lightblue'\n",
    "display(button)\n",
    "\n",
    "def on_button_clicked(df_current, df_precedent):\n",
    "    print('')\n",
    "    #run_match(df_current, df_precedent)\n",
    "\n",
    "\n",
    "button.on_click(on_button_clicked(y.value, y.value))"
   ]
  },
  {
   "cell_type": "markdown",
   "metadata": {},
   "source": [
    "## QuickCAR\n",
    "\n",
    "Computer generated responses to requests for production and interrogetories. Machine learning algorithms and fuzzy matching are used to incorporate historical responses to similar requests.  Will automatically generate a first draft of a response."
   ]
  },
  {
   "cell_type": "markdown",
   "metadata": {},
   "source": [
    "## Signature Page Generator\n",
    "***\n",
    "Generate signature page packets with the press of a button."
   ]
  },
  {
   "cell_type": "markdown",
   "metadata": {},
   "source": [
    "## Closing Binder Generator\n",
    "***\n",
    "Automate the preparation of closing binders."
   ]
  },
  {
   "cell_type": "code",
   "execution_count": 23,
   "metadata": {},
   "outputs": [
    {
     "data": {
      "text/plain": [
       "VBox(children=(Tab(children=(VBox(children=(HBox(children=(RadioButtons(description='Lender:', index=4, option…"
      ]
     },
     "execution_count": 0,
     "metadata": {},
     "output_type": "execute_result"
    }
   ],
   "source": [
    "@button.on_click\n",
    "def on_click(b):\n",
    "    pass\n",
    "\n",
    "lender_widget = widgets.RadioButtons(\n",
    "    options=['Wells Fargo', 'Bank of America (Private Wealth)', 'Bank of America', 'JPMorgan Chase', 'Ocean Bank', 'Other'],\n",
    "    value='Ocean Bank',\n",
    "    description='Lender:',\n",
    "    disabled=False\n",
    ")\n",
    "\n",
    "toggle = widgets.RadioButtons(\n",
    "    options=['Middle Market', 'Construction Loan', 'Bank Loan', 'Loan Modification', 'ABL Loan', 'Art Loan'],\n",
    "    value='Bank Loan',\n",
    "    description='Loan Type:',\n",
    "    disabled=False\n",
    ")\n",
    "\n",
    "title_textbox = widgets.Text(\n",
    "    value='RM',\n",
    "    description='Title:',\n",
    ")\n",
    "\n",
    "tab1 = VBox(children=[HBox(children=[lender_widget, toggle])])\n",
    "tab2 = VBox(children=[HBox(children=[title_textbox,])])\n",
    "tab = widgets.Tab(children=[tab1, tab2])\n",
    "tab.set_title(0, 'Loan Details')\n",
    "tab.set_title(1, 'Contacts')\n",
    "VBox(children=[tab, button])"
   ]
  }
 ],
 "metadata": {
  "kernelspec": {
   "display_name": "Python 3",
   "language": "python",
   "name": "python3"
  },
  "language_info": {
   "codemirror_mode": {
    "name": "ipython",
    "version": 3
   },
   "file_extension": ".py",
   "mimetype": "text/x-python",
   "name": "python",
   "nbconvert_exporter": "python",
   "pygments_lexer": "ipython3",
   "version": "3.6.4"
  },
  "toc": {
   "base_numbering": 1.0,
   "nav_menu": {},
   "number_sections": true,
   "sideBar": false,
   "skip_h1_title": false,
   "title_cell": "Table of Contents",
   "title_sidebar": "Contents",
   "toc_cell": true,
   "toc_position": {
    "height": "217.717px",
    "left": "38px",
    "top": "123.867px",
    "width": "261.283px"
   },
   "toc_section_display": false,
   "toc_window_display": false
  },
  "varInspector": {
   "cols": {
    "lenName": 16.0,
    "lenType": 16.0,
    "lenVar": 40.0
   },
   "kernels_config": {
    "python": {
     "delete_cmd_postfix": "",
     "delete_cmd_prefix": "del ",
     "library": "var_list.py",
     "varRefreshCmd": "print(var_dic_list())"
    },
    "r": {
     "delete_cmd_postfix": ") ",
     "delete_cmd_prefix": "rm(",
     "library": "var_list.r",
     "varRefreshCmd": "cat(var_dic_list()) "
    }
   },
   "types_to_exclude": [
    "module",
    "function",
    "builtin_function_or_method",
    "instance",
    "_Feature"
   ],
   "window_display": false
  }
 },
 "nbformat": 4,
 "nbformat_minor": 2
}
